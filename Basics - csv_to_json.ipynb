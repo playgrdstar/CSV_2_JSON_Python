{
 "cells": [
  {
   "cell_type": "markdown",
   "metadata": {},
   "source": [
    "Going from a CSV file to a JSON file is a common need."
   ]
  },
  {
   "cell_type": "code",
   "execution_count": 1,
   "metadata": {
    "collapsed": true
   },
   "outputs": [],
   "source": [
    "import pandas as pd"
   ]
  },
  {
   "cell_type": "code",
   "execution_count": 2,
   "metadata": {
    "collapsed": true
   },
   "outputs": [],
   "source": [
    "# You can load your local csv data with this command\n",
    "# data = pd.read_csv('data.csv')\n",
    "data = pd.read_csv('https://vincentarelbundock.github.io/Rdatasets/csv/boot/acme.csv')"
   ]
  },
  {
   "cell_type": "markdown",
   "metadata": {},
   "source": [
    "Quick Tip: If using an Excel file, remember not to have the format set as custom. Creates a lot of problems. "
   ]
  },
  {
   "cell_type": "code",
   "execution_count": 3,
   "metadata": {},
   "outputs": [
    {
     "data": {
      "text/html": [
       "<div>\n",
       "<table border=\"1\" class=\"dataframe\">\n",
       "  <thead>\n",
       "    <tr style=\"text-align: right;\">\n",
       "      <th></th>\n",
       "      <th>Unnamed: 0</th>\n",
       "      <th>month</th>\n",
       "      <th>market</th>\n",
       "      <th>acme</th>\n",
       "    </tr>\n",
       "  </thead>\n",
       "  <tbody>\n",
       "    <tr>\n",
       "      <th>0</th>\n",
       "      <td>1</td>\n",
       "      <td>1/86</td>\n",
       "      <td>-0.061134</td>\n",
       "      <td>0.030160</td>\n",
       "    </tr>\n",
       "    <tr>\n",
       "      <th>1</th>\n",
       "      <td>2</td>\n",
       "      <td>2/86</td>\n",
       "      <td>0.008220</td>\n",
       "      <td>-0.165457</td>\n",
       "    </tr>\n",
       "    <tr>\n",
       "      <th>2</th>\n",
       "      <td>3</td>\n",
       "      <td>3/86</td>\n",
       "      <td>-0.007381</td>\n",
       "      <td>0.080137</td>\n",
       "    </tr>\n",
       "    <tr>\n",
       "      <th>3</th>\n",
       "      <td>4</td>\n",
       "      <td>4/86</td>\n",
       "      <td>-0.067561</td>\n",
       "      <td>-0.109917</td>\n",
       "    </tr>\n",
       "    <tr>\n",
       "      <th>4</th>\n",
       "      <td>5</td>\n",
       "      <td>5/86</td>\n",
       "      <td>-0.006238</td>\n",
       "      <td>-0.114853</td>\n",
       "    </tr>\n",
       "  </tbody>\n",
       "</table>\n",
       "</div>"
      ],
      "text/plain": [
       "   Unnamed: 0 month    market      acme\n",
       "0           1  1/86 -0.061134  0.030160\n",
       "1           2  2/86  0.008220 -0.165457\n",
       "2           3  3/86 -0.007381  0.080137\n",
       "3           4  4/86 -0.067561 -0.109917\n",
       "4           5  5/86 -0.006238 -0.114853"
      ]
     },
     "execution_count": 3,
     "metadata": {},
     "output_type": "execute_result"
    }
   ],
   "source": [
    "data.head()"
   ]
  },
  {
   "cell_type": "code",
   "execution_count": 4,
   "metadata": {},
   "outputs": [
    {
     "data": {
      "text/html": [
       "<div>\n",
       "<table border=\"1\" class=\"dataframe\">\n",
       "  <thead>\n",
       "    <tr style=\"text-align: right;\">\n",
       "      <th></th>\n",
       "      <th>Number</th>\n",
       "      <th>Month</th>\n",
       "      <th>Market</th>\n",
       "      <th>Acme</th>\n",
       "    </tr>\n",
       "  </thead>\n",
       "  <tbody>\n",
       "    <tr>\n",
       "      <th>0</th>\n",
       "      <td>1</td>\n",
       "      <td>1/86</td>\n",
       "      <td>-0.061134</td>\n",
       "      <td>0.030160</td>\n",
       "    </tr>\n",
       "    <tr>\n",
       "      <th>1</th>\n",
       "      <td>2</td>\n",
       "      <td>2/86</td>\n",
       "      <td>0.008220</td>\n",
       "      <td>-0.165457</td>\n",
       "    </tr>\n",
       "    <tr>\n",
       "      <th>2</th>\n",
       "      <td>3</td>\n",
       "      <td>3/86</td>\n",
       "      <td>-0.007381</td>\n",
       "      <td>0.080137</td>\n",
       "    </tr>\n",
       "    <tr>\n",
       "      <th>3</th>\n",
       "      <td>4</td>\n",
       "      <td>4/86</td>\n",
       "      <td>-0.067561</td>\n",
       "      <td>-0.109917</td>\n",
       "    </tr>\n",
       "    <tr>\n",
       "      <th>4</th>\n",
       "      <td>5</td>\n",
       "      <td>5/86</td>\n",
       "      <td>-0.006238</td>\n",
       "      <td>-0.114853</td>\n",
       "    </tr>\n",
       "  </tbody>\n",
       "</table>\n",
       "</div>"
      ],
      "text/plain": [
       "   Number Month    Market      Acme\n",
       "0       1  1/86 -0.061134  0.030160\n",
       "1       2  2/86  0.008220 -0.165457\n",
       "2       3  3/86 -0.007381  0.080137\n",
       "3       4  4/86 -0.067561 -0.109917\n",
       "4       5  5/86 -0.006238 -0.114853"
      ]
     },
     "execution_count": 4,
     "metadata": {},
     "output_type": "execute_result"
    }
   ],
   "source": [
    "data.columns = ['Number', 'Month', 'Market','Acme']\n",
    "data.head()"
   ]
  },
  {
   "cell_type": "code",
   "execution_count": 5,
   "metadata": {
    "collapsed": true
   },
   "outputs": [],
   "source": [
    "# The code snippet below is useful if you have issues with coercing some of the data to be numeric\n",
    "# data.Market=data.Market.str.strip(' ')\n",
    "# data.Market = data.Market.apply(pd.to_numeric, errors='coerce')"
   ]
  },
  {
   "cell_type": "markdown",
   "metadata": {},
   "source": [
    "Remember, no [], just need {}. Otherwise it will an array of 1"
   ]
  },
  {
   "cell_type": "code",
   "execution_count": 7,
   "metadata": {},
   "outputs": [],
   "source": [
    "data_flat = []\n",
    "for i in range(len(data)):\n",
    "    data_flat.append({'Month':data.iloc[i].Month, \n",
    "                      'Market':data.iloc[i].Market,\n",
    "                      'Acme':float(data.iloc[i].Acme)})"
   ]
  },
  {
   "cell_type": "code",
   "execution_count": 8,
   "metadata": {
    "collapsed": true
   },
   "outputs": [],
   "source": [
    "import json\n",
    "with open('data.json', 'w') as outfile:\n",
    "    json.dump(data_flat, outfile)"
   ]
  },
  {
   "cell_type": "code",
   "execution_count": 9,
   "metadata": {},
   "outputs": [
    {
     "data": {
      "text/plain": [
       "[{'Acme': 0.030160000000000003, 'Market': -0.061134, 'Month': '1/86'},\n",
       " {'Acme': -0.165457, 'Market': 0.00822, 'Month': '2/86'},\n",
       " {'Acme': 0.080137, 'Market': -0.007381, 'Month': '3/86'},\n",
       " {'Acme': -0.109917, 'Market': -0.067561, 'Month': '4/86'},\n",
       " {'Acme': -0.114853, 'Market': -0.0062380000000000005, 'Month': '5/86'},\n",
       " {'Acme': -0.099254, 'Market': -0.044251, 'Month': '6/86'},\n",
       " {'Acme': -0.226846, 'Market': -0.11207, 'Month': '7/86'},\n",
       " {'Acme': 0.07344500000000001, 'Market': 0.030226, 'Month': '8/86'},\n",
       " {'Acme': -0.143064, 'Market': -0.129556, 'Month': '9/86'},\n",
       " {'Acme': 0.034776, 'Market': 0.0013189999999999999, 'Month': '10/86'},\n",
       " {'Acme': -0.063375, 'Market': -0.033679, 'Month': '11/86'},\n",
       " {'Acme': -0.058735, 'Market': -0.072795, 'Month': '12/86'},\n",
       " {'Acme': 0.050214, 'Market': 0.073396, 'Month': '1/87'},\n",
       " {'Acme': 0.11116500000000001, 'Market': -0.011618, 'Month': '2/87'},\n",
       " {'Acme': -0.127492, 'Market': -0.026851999999999997, 'Month': '3/87'},\n",
       " {'Acme': 0.054522, 'Market': -0.040356, 'Month': '4/87'},\n",
       " {'Acme': -0.072918, 'Market': -0.047539, 'Month': '5/87'},\n",
       " {'Acme': -0.058979, 'Market': -0.001732, 'Month': '6/87'},\n",
       " {'Acme': 0.23614699999999997,\n",
       "  'Market': -0.008898999999999999,\n",
       "  'Month': '7/87'},\n",
       " {'Acme': -0.094778, 'Market': -0.020837, 'Month': '8/87'},\n",
       " {'Acme': -0.135669, 'Market': -0.084811, 'Month': '9/87'},\n",
       " {'Acme': -0.284796, 'Market': -0.262077, 'Month': '10/87'},\n",
       " {'Acme': -0.171494, 'Market': -0.110167, 'Month': '11/87'},\n",
       " {'Acme': 0.242616, 'Market': 0.034955, 'Month': '12/87'},\n",
       " {'Acme': -0.06351799999999999, 'Market': 0.012688, 'Month': '1/88'},\n",
       " {'Acme': -0.117677, 'Market': -0.00217, 'Month': '2/88'},\n",
       " {'Acme': 0.201674, 'Market': -0.073462, 'Month': '3/88'},\n",
       " {'Acme': -0.147728, 'Market': -0.043419, 'Month': '4/88'},\n",
       " {'Acme': -0.17088499999999998,\n",
       "  'Market': -0.054729999999999994,\n",
       "  'Month': '5/88'},\n",
       " {'Acme': -0.014893, 'Market': -0.011755, 'Month': '6/88'},\n",
       " {'Acme': -0.11051500000000002,\n",
       "  'Market': -0.061717999999999995,\n",
       "  'Month': '7/88'},\n",
       " {'Acme': -0.168769, 'Market': -0.10171000000000001, 'Month': '8/88'},\n",
       " {'Acme': -0.13558499999999998, 'Market': -0.032705, 'Month': '9/88'},\n",
       " {'Acme': -0.084077, 'Market': -0.045334, 'Month': '10/88'},\n",
       " {'Acme': -0.16455, 'Market': -0.079288, 'Month': '11/88'},\n",
       " {'Acme': 0.150269, 'Market': -0.036233, 'Month': '12/88'},\n",
       " {'Acme': -0.015672, 'Market': -0.011493999999999999, 'Month': '1/89'},\n",
       " {'Acme': -0.037860000000000005,\n",
       "  'Market': -0.09372899999999999,\n",
       "  'Month': '2/89'},\n",
       " {'Acme': -0.074712, 'Market': -0.065215, 'Month': '3/89'},\n",
       " {'Acme': -0.10853, 'Market': -0.037113, 'Month': '4/89'},\n",
       " {'Acme': -0.036769, 'Market': -0.044399, 'Month': '5/89'},\n",
       " {'Acme': 0.023912, 'Market': -0.084412, 'Month': '6/89'},\n",
       " {'Acme': -0.07843, 'Market': 0.0034439999999999996, 'Month': '7/89'},\n",
       " {'Acme': -0.132199, 'Market': -0.056760000000000005, 'Month': '8/89'},\n",
       " {'Acme': -0.110141, 'Market': -0.07897, 'Month': '9/89'},\n",
       " {'Acme': -0.126302, 'Market': -0.105367, 'Month': '10/89'},\n",
       " {'Acme': -0.09573, 'Market': -0.038633999999999995, 'Month': '11/89'},\n",
       " {'Acme': 0.06573999999999999, 'Market': -0.043261, 'Month': '12/89'},\n",
       " {'Acme': -0.120056, 'Market': -0.139773, 'Month': '1/90'},\n",
       " {'Acme': -0.08520499999999999,\n",
       "  'Market': -0.05909400000000001,\n",
       "  'Month': '2/90'},\n",
       " {'Acme': -0.130433, 'Market': -0.057736, 'Month': '3/90'},\n",
       " {'Acme': -0.116728, 'Market': -0.102524, 'Month': '4/90'},\n",
       " {'Acme': -0.078039, 'Market': 0.023881, 'Month': '5/90'},\n",
       " {'Acme': -0.170322, 'Market': -0.07911599999999999, 'Month': '6/90'},\n",
       " {'Acme': -0.077727, 'Market': -0.078965, 'Month': '7/90'},\n",
       " {'Acme': -0.277035, 'Market': -0.161359, 'Month': '8/90'},\n",
       " {'Acme': -0.20759499999999997, 'Market': -0.119376, 'Month': '9/90'},\n",
       " {'Acme': -0.070515, 'Market': -0.076008, 'Month': '10/90'},\n",
       " {'Acme': -0.046274, 'Market': -0.006444, 'Month': '11/90'},\n",
       " {'Acme': -0.190834, 'Market': -0.026400999999999997, 'Month': '12/90'}]"
      ]
     },
     "execution_count": 9,
     "metadata": {},
     "output_type": "execute_result"
    }
   ],
   "source": [
    "data_flat"
   ]
  },
  {
   "cell_type": "code",
   "execution_count": null,
   "metadata": {
    "collapsed": true
   },
   "outputs": [],
   "source": []
  }
 ],
 "metadata": {
  "kernelspec": {
   "display_name": "Python [conda env:pydata]",
   "language": "python",
   "name": "conda-env-pydata-py"
  },
  "language_info": {
   "codemirror_mode": {
    "name": "ipython",
    "version": 3
   },
   "file_extension": ".py",
   "mimetype": "text/x-python",
   "name": "python",
   "nbconvert_exporter": "python",
   "pygments_lexer": "ipython3",
   "version": "3.5.3"
  }
 },
 "nbformat": 4,
 "nbformat_minor": 2
}
